{
 "cells": [
  {
   "attachments": {},
   "cell_type": "markdown",
   "metadata": {},
   "source": [
    "# Analysis of Google Play Store & Apps Store markets to identify popular english free apps\n",
    "The project is aimed at helping the companies that build free apps to identify the type (or genre) of apps that are most popular on the Google Play Store (Android) markets and the Apple Apps Store (iOS) markets. Also, this project focusses on apps built for English (language) users.\n",
    "\n",
    "## How can the results be interpreted? And who can use them most effectively?\n",
    "For several App developing players, 'In-App Advertising' has been and still remains one of the major app monetization tools and a proven revenue model. According to a survey of Apps on Google Play Store by Sweetpricing.com (https://bit.ly/3dBnCFM), about 65% of the Apps on Google Play Store use In-App Advertising for revenue generation.\n",
    "\n",
    "IMAGE 1\n",
    "\n",
    "Thus, for an In-App Advertising Revenue model to work most effectively, the app developers should target an app that will have a large user base. This will make advertising through the app an enticing prospect for the clients of the app developing company. The work in this project identifies the most popular (highest number of users) 'type' or 'genre' of the app across both markets (Google Play Store and App Store). The results of this project can be best applicable to app developing companies looking to launch an app across <b> both Google Play Store and Apple Store </b> and who's domain or market space is <b> not restricted by a particular genre/type of app </b>.\n",
    "\n",
    "## Source of data:\n",
    "There are over 2 million apps in each of the Google Play Store and the App Store markets. However, for this project, a sample dataset containing few thousands of apps for each market has been used. \n",
    "For Google Play Store Apps, a sample dataset containing over 10K apps can be found here: https://go.aws/2Y8Ebm2\n",
    "For App Store Apps, a sample dataset containing over 7K apps can be found here: https://go.aws/3dHgIPh\n",
    "\n",
    "For more details of the source for the Google Play Store Apps, please refer to this link: https://www.kaggle.com/lava18/google-play-store-apps\n",
    "For more details of the source for the Apps Store Apps, please refer to this link: https://www.kaggle.com/ramamet4/app-store-apple-data-set-10k-apps"
   ]
  },
  {
   "cell_type": "markdown",
   "metadata": {},
   "source": [
    "## Opening the datasets\n",
    "The first step is to successfully open the datasets and explore them to understand what sort of data that is being processed. The first row of both datasets is the header row denoting the type of data in any particular column. In the following cell, the datasets have been opened, the first (header) row has been displayed for both datasets and the first few apps have been displayed just to get a feel of the type of data that will be processe in the project."
   ]
  },
  {
   "cell_type": "code",
   "execution_count": 1,
   "metadata": {
    "scrolled": true
   },
   "outputs": [
    {
     "name": "stdout",
     "output_type": "stream",
     "text": [
      "['Photo Editor & Candy Camera & Grid & ScrapBook', 'ART_AND_DESIGN', '4.1', '159', '19M', '10,000+', 'Free', '0', 'Everyone', 'Art & Design', 'January 7, 2018', '1.0.0', '4.0.3 and up']\n",
      "\n",
      "\n",
      "['Coloring book moana', 'ART_AND_DESIGN', '3.9', '967', '14M', '500,000+', 'Free', '0', 'Everyone', 'Art & Design;Pretend Play', 'January 15, 2018', '2.0.0', '4.0.3 and up']\n",
      "\n",
      "\n",
      "['284882215', 'Facebook', '389879808', 'USD', '0.0', '2974676', '212', '3.5', '3.5', '95.0', '4+', 'Social Networking', '37', '1', '29', '1']\n",
      "\n",
      "\n",
      "['389801252', 'Instagram', '113954816', 'USD', '0.0', '2161558', '1289', '4.5', '4.0', '10.23', '12+', 'Photo & Video', '37', '0', '29', '1']\n",
      "\n",
      "\n",
      "The number of apps in the Google Play Store Dataset are:  10841\n",
      "The number of apps in the App Store Dataset are:  7197\n",
      "\n",
      "\n",
      "The header row of the Google Play Store Dataset is:\n",
      " ['App', 'Category', 'Rating', 'Reviews', 'Size', 'Installs', 'Type', 'Price', 'Content Rating', 'Genres', 'Last Updated', 'Current Ver', 'Android Ver']\n",
      "\n",
      "\n",
      "The header row of the App Store Dataset is:\n",
      " ['id', 'track_name', 'size_bytes', 'currency', 'price', 'rating_count_tot', 'rating_count_ver', 'user_rating', 'user_rating_ver', 'ver', 'cont_rating', 'prime_genre', 'sup_devices.num', 'ipadSc_urls.num', 'lang.num', 'vpp_lic']\n"
     ]
    }
   ],
   "source": [
    "def explore_data(dataset, start, end, rows_and_columns=False):\n",
    "    dataset_slice = dataset[start:end]    \n",
    "    for row in dataset_slice:\n",
    "        print(row)\n",
    "        print('\\n')\n",
    "\n",
    "    if rows_and_columns:\n",
    "        print('Number of rows:', len(dataset))\n",
    "        print('Number of columns:', len(dataset[0]))\n",
    "\n",
    "#code to open files\n",
    "from csv import reader\n",
    "open_gp = open(r'C:\\Users\\Official\\Desktop\\Dataset\\googleplaystore.csv',encoding='utf8',errors='ignore')\n",
    "read_gp=reader(open_gp)\n",
    "data_gp=list(read_gp)\n",
    "gp_data=explore_data(dataset=data_gp,start=1,end=3,rows_and_columns=False)\n",
    "\n",
    "open_ios=open(r'C:\\Users\\Official\\Desktop\\Dataset\\AppleStore.csv',encoding='utf8',errors='ignore')\n",
    "read_ios=reader(open_ios)\n",
    "data_ios=list(read_ios)\n",
    "ios_data=explore_data(dataset=data_ios,start=1,end=3,rows_and_columns=False)\n",
    "\n",
    "#code to find out the number of datapoints/rows (number of apps)\n",
    "def data_no_cal(dataset):\n",
    "    data_cal=0\n",
    "    for row in dataset[1:]:\n",
    "        data_cal+=1\n",
    "    return data_cal\n",
    "\n",
    "dp_gp=data_no_cal(dataset=data_gp)\n",
    "print(\"The number of apps in the Google Play Store Dataset are: \", dp_gp)\n",
    "dp_ios=data_no_cal(dataset=data_ios)\n",
    "print(\"The number of apps in the App Store Dataset are: \",dp_ios)\n",
    "print('\\n')\n",
    "#code to print first row to understand the data header\n",
    "print(\"The header row of the Google Play Store Dataset is:\\n\",data_gp[0])\n",
    "print('\\n')\n",
    "print(\"The header row of the App Store Dataset is:\\n\",data_ios[0])\n"
   ]
  },
  {
   "cell_type": "markdown",
   "metadata": {},
   "source": [
    "## Cleaning Data (Removing dirty data & duplicate entries)\n",
    "Before the data is analyzed, it is to be ensured that apps with erroneous values or wrong/incomplete values in headers like ratings, price, etc. are excluded from the dataset for the analysis in this project. As per the data source (Kaggle), the 10472 nd entry in the Google Play Store dataset has incorrect/incomplete data elements. After further investigation, it is noted that this entry does not have any value in the 'Category' header and subsequently, other values occupy incorrect (previous) locations in the list/entry. Therefore this entry will not be considered (thus removed below) in the analysis.\n",
    "\n",
    "It is also desirable to remove the duplicate values/entries to make the results more accurate. This is achieved in a structured way in which, for an App, the entry with the highest number of reviews (thus assumed to be latest) will be retained for the analysis as the correct entry for that particular App."
   ]
  },
  {
   "cell_type": "code",
   "execution_count": 2,
   "metadata": {},
   "outputs": [
    {
     "name": "stdout",
     "output_type": "stream",
     "text": [
      "['Life Made WI-Fi Touchscreen Photo Frame', '1.9', '19', '3.0M', '1,000+', 'Free', '0', 'Everyone', '', 'February 11, 2018', '1.0.19', '4.0 and up']\n",
      "The number of apps in the Google Play Dataset are now:  10840\n"
     ]
    }
   ],
   "source": [
    "# cleaning data; delete dirty data\n",
    "print(data_gp[10473])\n",
    "del data_gp[10473]\n",
    "dp_gp=data_no_cal(dataset=data_gp)\n",
    "print(\"The number of apps in the Google Play Dataset are now: \",dp_gp)"
   ]
  },
  {
   "cell_type": "code",
   "execution_count": 3,
   "metadata": {},
   "outputs": [
    {
     "name": "stdout",
     "output_type": "stream",
     "text": [
      "Removing duplicate apps in the Google Play Store Dataset:\n",
      "\n",
      "Some examples of duplicate apps are:  ['Quick PDF Scanner + OCR FREE', 'Box', 'Google My Business', 'ZOOM Cloud Meetings', 'join.me - Simple Meetings']\n",
      "The number of duplicate apps are:  1181\n",
      "The expected number of unique apps are:  9659\n",
      "The actual number of unique apps are:  9659 \n",
      "\n",
      "Removing duplicate apps in the App Store Dataset:\n",
      "\n",
      "Some examples of duplicate apps are:  ['Mannequin Challenge', 'VR Roller Coaster']\n",
      "The number of duplicate apps are:  2\n",
      "The expected number of unique apps are:  7195\n",
      "The actual number of unique apps are:  7195 \n",
      "\n"
     ]
    }
   ],
   "source": [
    "# remove duplicate entries\n",
    "def remove_dup(dataset,name_index,review_index):\n",
    "    duplicate_apps=[]\n",
    "    unique_apps=[]\n",
    "    for app in dataset[1:]:\n",
    "        name=app[name_index]\n",
    "        if name in unique_apps:\n",
    "            duplicate_apps.append(name)\n",
    "        else:\n",
    "            unique_apps.append(name)\n",
    "    \n",
    "    print(\"Some examples of duplicate apps are: \", duplicate_apps[:5])\n",
    "    print(\"The number of duplicate apps are: \",len(duplicate_apps))\n",
    "    print(\"The expected number of unique apps are: \",len(unique_apps))\n",
    "    \n",
    "    reviews_max={}\n",
    "    for app in dataset[1:]:\n",
    "        name=app[name_index]\n",
    "        review=float(app[review_index])\n",
    "        \n",
    "        if name in reviews_max and review>reviews_max[name]:\n",
    "            reviews_max[name]=review\n",
    "        elif name not in reviews_max:\n",
    "            reviews_max[name]=review  \n",
    "    \n",
    "    clean_database=[]\n",
    "    dummy_database=[]\n",
    "    \n",
    "    for app in dataset[1:]:\n",
    "        name=app[name_index]\n",
    "        review=float(app[review_index])\n",
    "        if (reviews_max[name]==review) and (name not in dummy_database):\n",
    "            clean_database.append(app)\n",
    "            dummy_database.append(name)\n",
    "    print(\"The actual number of unique apps are: \",len(clean_database),'\\n')\n",
    "    return(clean_database)\n",
    "\n",
    "print(\"Removing duplicate apps in the Google Play Store Dataset:\\n\")\n",
    "gp_cleandb=remove_dup(dataset=data_gp,name_index=0,review_index=3)\n",
    "print(\"Removing duplicate apps in the App Store Dataset:\\n\")\n",
    "ios_cleandb=remove_dup(dataset=data_ios,name_index=1,review_index=5)"
   ]
  },
  {
   "cell_type": "markdown",
   "metadata": {},
   "source": [
    "## Remove Non-English Apps\n",
    "As mentioned earlier, the scope of the project has been defined to include only English apps. This section removes the non-English apps in the dataset. This is implemented using the ASCII codes for standard English alpha-numeric characters. The 'name' of apps have been used to identify which apps are built using non-English languages or for non-English users. For almost every standard alpha-numeric English character, the ASCII codes are less than '128'. Therefore, a loop to check whether the ASCII value of each element of the string app name is greater than 128 or not has been implemented.\n",
    "\n",
    "However, it was noticed that certain English apps have special characters like emoticons/emojis, superscript characters, etc. which may have an ASCII value more than 128. 'Instachat 😜' and 'Docs To Go™ Free Office Suite' are two examples of such apps. These apps should not be excluded from the dataset on which the analysis will be done. In order to retain these apps, a check variable (strike_counter) will only exclude an app if there are more than three (03) non-standard characters (ASCII value > 128) in the app name string."
   ]
  },
  {
   "cell_type": "code",
   "execution_count": 4,
   "metadata": {},
   "outputs": [
    {
     "name": "stdout",
     "output_type": "stream",
     "text": [
      "Removing non-English apps in the Google Play Store Dataset:\n",
      "\n",
      "The number of English apps are:  9614\n",
      "The number of non-English apps are:  45\n",
      "Examples of few non-English apps are:  ['Flame - درب عقلك يوميا', 'သိင်္ Astrology - Min Thein Kha BayDin', 'РИА Новости']\n",
      "\n",
      "\n",
      "Removing non-English apps in the App Store Dataset:\n",
      "\n",
      "The number of English apps are:  6181\n",
      "The number of non-English apps are:  1014\n",
      "Examples of few non-English apps are:  ['爱奇艺PPS -《欢乐颂2》电视剧热播', '聚力视频HD-人民的名义,跨界歌王全网热播', '优酷视频']\n"
     ]
    }
   ],
   "source": [
    "#Remove Non-English Apps\n",
    "def remove_noneng(dataset,name_index):\n",
    "    non_eng=[]\n",
    "    clean_database=[]\n",
    "    for app in dataset:\n",
    "        name=app[name_index]\n",
    "        max_length=len(name)\n",
    "        i=0\n",
    "        strike_counter=0\n",
    "        if (name not in non_eng):\n",
    "            for i in range (max_length):\n",
    "                if (ord(name[i])>128):\n",
    "                    strike_counter+=1\n",
    "        if strike_counter>3:\n",
    "            non_eng.append(name)\n",
    "        else:\n",
    "            clean_database.append(app)\n",
    "    print(\"The number of English apps are: \",len(clean_database))\n",
    "    print(\"The number of non-English apps are: \",len(non_eng))\n",
    "    print(\"Examples of few non-English apps are: \",non_eng[:3])\n",
    "    return(clean_database)\n",
    "\n",
    "print(\"Removing non-English apps in the Google Play Store Dataset:\\n\")\n",
    "gp_cleandb=remove_noneng(dataset=gp_cleandb,name_index=0)\n",
    "print('\\n')\n",
    "print(\"Removing non-English apps in the App Store Dataset:\\n\")\n",
    "ios_cleandb=remove_noneng(dataset=ios_cleandb,name_index=1)"
   ]
  },
  {
   "cell_type": "markdown",
   "metadata": {},
   "source": [
    "### Isolating Free Apps\n",
    "The project objective is the analysis of free apps in both markets. In this section, paid/non-free apps are identified using the'price' header/data in both datasets and excluded from the final dataset to be analyzed."
   ]
  },
  {
   "cell_type": "code",
   "execution_count": 5,
   "metadata": {},
   "outputs": [
    {
     "name": "stdout",
     "output_type": "stream",
     "text": [
      "Isolating free apps in the Google Play Store Dataset:\n",
      "\n",
      "The final lenghth of the dataset is:  8864\n",
      "The first few apps of the final dataset are:  [['Photo Editor & Candy Camera & Grid & ScrapBook', 'ART_AND_DESIGN', '4.1', '159', '19M', '10,000+', 'Free', '0', 'Everyone', 'Art & Design', 'January 7, 2018', '1.0.0', '4.0.3 and up'], ['U Launcher Lite – FREE Live Cool Themes, Hide Apps', 'ART_AND_DESIGN', '4.7', '87510', '8.7M', '5,000,000+', 'Free', '0', 'Everyone', 'Art & Design', 'August 1, 2018', '1.2.4', '4.0.3 and up'], ['Sketch - Draw & Paint', 'ART_AND_DESIGN', '4.5', '215644', '25M', '50,000,000+', 'Free', '0', 'Teen', 'Art & Design', 'June 8, 2018', 'Varies with device', '4.2 and up']]\n",
      "\n",
      "\n",
      "Isolating free apps in the App Store Dataset:\n",
      "\n",
      "The final lenghth of the dataset is:  3220\n",
      "The first few apps of the final dataset are:  [['284882215', 'Facebook', '389879808', 'USD', '0.0', '2974676', '212', '3.5', '3.5', '95.0', '4+', 'Social Networking', '37', '1', '29', '1'], ['389801252', 'Instagram', '113954816', 'USD', '0.0', '2161558', '1289', '4.5', '4.0', '10.23', '12+', 'Photo & Video', '37', '0', '29', '1'], ['529479190', 'Clash of Clans', '116476928', 'USD', '0.0', '2130805', '579', '4.5', '4.5', '9.24.12', '9+', 'Games', '38', '5', '18', '1']]\n"
     ]
    }
   ],
   "source": [
    "# Isolating Free Apps\n",
    "def remove_paidapps(dataset,name_index,price_index):\n",
    "    freeapps=[]\n",
    "    for app in dataset:\n",
    "        name=app[name_index]\n",
    "        price=app[price_index]\n",
    "        if price=='0' or price=='0.0':\n",
    "            freeapps.append(app)\n",
    "    print(\"The final lenghth of the dataset is: \",len(freeapps))\n",
    "    print(\"The first few apps of the final dataset are: \",freeapps[:3])\n",
    "    return(freeapps)\n",
    "\n",
    "print(\"Isolating free apps in the Google Play Store Dataset:\\n\")\n",
    "gp_freeapps=remove_paidapps(dataset=gp_cleandb,name_index=0,price_index=7)\n",
    "print('\\n')\n",
    "print(\"Isolating free apps in the App Store Dataset:\\n\")\n",
    "ios_freeapps=remove_paidapps(dataset=ios_cleandb,name_index=1,price_index=4)"
   ]
  },
  {
   "cell_type": "markdown",
   "metadata": {},
   "source": [
    "### Analysing apps based on genre\n",
    "As per the defined objectives, it is important to recognize free apps that are widely used across <b>both</b> platforms (Google Play Store and IOS Apps Store). The more popular an app is, i.e., the more the number of users, the more ads will be viewed by the users and thus more revenue can be generated by advertising via these apps. Thus, from the datasets, the following data type can be useful for this analysis: Number of users, Category, Rating, Installs, and Genre.\n",
    "\n",
    "In the below code, the 'genre' data in the Google Play dataset and the 'prime_genre' data in the Apps Store dataset have been analyzed. Based on the genre, a frequency table has been created which throws light on the distribution of the apps across the different genres like 'Games', 'Entertainment', etc. The table indicates a dictionary consisting of tuples that contain the genre name and the percentage of genre apps (out of 100% of the total number of apps). Please note that the categorization of genres is different in the Google Play and App Store datasets.\n",
    "\n",
    "Result will be represented as:\n",
    "{(% of genre_1 apps,genre_1 name), (% of genre_2 apps,genre_2 name), (% of genre_3 apps,genre_3 name),.....} \n",
    "\n",
    "Image 2"
   ]
  },
  {
   "cell_type": "code",
   "execution_count": 6,
   "metadata": {},
   "outputs": [
    {
     "name": "stdout",
     "output_type": "stream",
     "text": [
      "Distribution (in %) of the number of apps based on genre for Google Play Store Dataset:\n",
      "[(18.91, 'FAMILY'), (9.72, 'GAME'), (8.46, 'TOOLS'), (4.59, 'BUSINESS'), (3.9, 'LIFESTYLE'), (3.89, 'PRODUCTIVITY'), (3.7, 'FINANCE'), (3.53, 'MEDICAL'), (3.4, 'SPORTS'), (3.32, 'PERSONALIZATION'), (3.24, 'COMMUNICATION'), (3.08, 'HEALTH_AND_FITNESS'), (2.94, 'PHOTOGRAPHY'), (2.8, 'NEWS_AND_MAGAZINES'), (2.66, 'SOCIAL'), (2.34, 'TRAVEL_AND_LOCAL'), (2.25, 'SHOPPING'), (2.14, 'BOOKS_AND_REFERENCE'), (1.86, 'DATING'), (1.79, 'VIDEO_PLAYERS'), (1.4, 'MAPS_AND_NAVIGATION'), (1.24, 'FOOD_AND_DRINK'), (1.16, 'EDUCATION'), (0.96, 'ENTERTAINMENT'), (0.94, 'LIBRARIES_AND_DEMO'), (0.93, 'AUTO_AND_VEHICLES'), (0.82, 'HOUSE_AND_HOME'), (0.8, 'WEATHER'), (0.71, 'EVENTS'), (0.65, 'PARENTING'), (0.64, 'ART_AND_DESIGN'), (0.62, 'COMICS'), (0.6, 'BEAUTY')]\n",
      "\n",
      "\n",
      "Distribution (in %) of the number of apps based on genre for App Store Dataset:\n",
      "[(58.14, 'Games'), (7.89, 'Entertainment'), (4.97, 'Photo & Video'), (3.66, 'Education'), (3.29, 'Social Networking'), (2.61, 'Shopping'), (2.52, 'Utilities'), (2.14, 'Sports'), (2.05, 'Music'), (2.02, 'Health & Fitness'), (1.74, 'Productivity'), (1.58, 'Lifestyle'), (1.34, 'News'), (1.24, 'Travel'), (1.12, 'Finance'), (0.87, 'Weather'), (0.81, 'Food & Drink'), (0.56, 'Reference'), (0.53, 'Business'), (0.43, 'Book'), (0.19, 'Navigation'), (0.19, 'Medical'), (0.12, 'Catalogs')]\n"
     ]
    }
   ],
   "source": [
    "def freq_table(dataset,genre_index):\n",
    "    freq={}\n",
    "    for app in dataset:\n",
    "        value=app[genre_index]\n",
    "        if value in freq:\n",
    "            freq[value]+=1\n",
    "        else:\n",
    "            freq[value]=1\n",
    "    total_apps=len(dataset)\n",
    "    sum=0\n",
    "    for key in freq:\n",
    "        freq[key]=round(freq[key]/total_apps*100,2)\n",
    "        sum=sum+freq[key]\n",
    "    table_display=[]\n",
    "    for key in freq:\n",
    "        key_val_as_tuple=(freq[key],key)\n",
    "        table_display.append(key_val_as_tuple)\n",
    "        \n",
    "    table_sorted=sorted(table_display,reverse=True)\n",
    "    print(table_sorted)\n",
    "\n",
    "print(\"Distribution (in %) of the number of apps based on genre for Google Play Store Dataset:\")    \n",
    "freq_table(dataset=gp_freeapps,genre_index=1)\n",
    "print('\\n')\n",
    "print(\"Distribution (in %) of the number of apps based on genre for App Store Dataset:\") \n",
    "freq_table(dataset=ios_freeapps,genre_index=11)"
   ]
  },
  {
   "cell_type": "markdown",
   "metadata": {},
   "source": [
    "The frequency tables calculated above show that the App Store dataset is dominated by 'Games' apps with over 58% of the total apps belonging to this category. On the other hand, the Google Play Store dataset has a more evenly distributed profile for the type/genre of apps with the 'Family' apps constituting about 19% of all apps in the dataset. However, the above result is not sufficient enough to conclude whether creating an app based on a certain 'genre' is a guarantee for the app to be installed and used by several users. Further analysis of the number of users will give a more complete picture of this project. This will be further explored in the code below.\n",
    "\n",
    "### Analysis of apps based on the number of users\n",
    "It is important to scrutinize which type/genres of apps have more users than others and which type of apps fare better in terms of popularity in user base in comparison to others. One angle of looking at this is finding the number of users for each genre. However, this approach seems myopic since there may be a high number of apps for a particular genre and therefore a higher user base in total compared to other genres/categories. However, from a more granular perspective, this does not commensurately ensure that a single app of that genre has a higher number of the user base. The parameter that will provide more credentialed insight is the average number of users per app in a particular genre. The code below calculates exactly that.\n",
    "\n",
    "Please note that in the Google Play the data in the 'Installs' header can be used to estimate the total number of users. However, such a parameter indicating the number of installations is not available in the App Store dataset. Therefore, the data in the 'rating_count_tot' has been used as an approximate figure for the number of users. The approach of a weighted average (average number of users for an app in a particular genre) as a true indication of the popularity of the genre further helps to largely dilute the inaccuracy created due to the unavailability of data. It is thus, a more valid method of actually determining the popularity of a particular genre.\n",
    "\n",
    "<b>Calcuations used below:</b><br>\n",
    "genre_total_users : Total number of users for a particular 'genre'<br>\n",
    "genre_total_apps : Total apps for a particular 'genre'<br>\n",
    "tuple_avg_users_per_app_genre : Average number of users per app for a particular 'genre' ('genre' is the key in tuple)<br>\n",
    "tuple_avg_users_per_app_genre = genre_total_users / genre_total_apps"
   ]
  },
  {
   "cell_type": "code",
   "execution_count": 7,
   "metadata": {},
   "outputs": [
    {
     "name": "stdout",
     "output_type": "stream",
     "text": [
      "For the Google Play Store dataset:\n",
      "\n",
      "The total number of users for the genres are:\n",
      " [(13436869450, 'GAME'), (11036906201, 'COMMUNICATION'), (8101043474, 'TOOLS'), (6193895690, 'FAMILY'), (5791629314, 'PRODUCTIVITY'), (5487861902, 'SOCIAL'), (4656268815, 'PHOTOGRAPHY'), (3931731720, 'VIDEO_PLAYERS'), (2894704086, 'TRAVEL_AND_LOCAL'), (2368196260, 'NEWS_AND_MAGAZINES'), (1665884260, 'BOOKS_AND_REFERENCE'), (1529235888, 'PERSONALIZATION'), (1400338585, 'SHOPPING'), (1143548402, 'HEALTH_AND_FITNESS'), (1095230683, 'SPORTS'), (989460000, 'ENTERTAINMENT'), (696902090, 'BUSINESS'), (503060780, 'MAPS_AND_NAVIGATION'), (497484429, 'LIFESTYLE'), (455163132, 'FINANCE'), (360288520, 'WEATHER'), (211738751, 'FOOD_AND_DRINK'), (188850000, 'EDUCATION'), (140914757, 'DATING'), (113221100, 'ART_AND_DESIGN'), (97202461, 'HOUSE_AND_HOME'), (53080061, 'AUTO_AND_VEHICLES'), (52995810, 'LIBRARIES_AND_DEMO'), (44971150, 'COMICS'), (37732344, 'MEDICAL'), (31471010, 'PARENTING'), (27197050, 'BEAUTY'), (15973160, 'EVENTS')] \n",
      "\n",
      "The average number of users per app for the genres are:\n",
      " [(38456119.17, 'COMMUNICATION'), (24727872.45, 'VIDEO_PLAYERS'), (23253652.13, 'SOCIAL'), (17840110.4, 'PHOTOGRAPHY'), (16787331.34, 'PRODUCTIVITY'), (15588015.6, 'GAME'), (13984077.71, 'TRAVEL_AND_LOCAL'), (11640705.88, 'ENTERTAINMENT'), (10801391.3, 'TOOLS'), (9549178.47, 'NEWS_AND_MAGAZINES'), (8767811.89, 'BOOKS_AND_REFERENCE'), (7036877.31, 'SHOPPING'), (5201482.61, 'PERSONALIZATION'), (5074486.2, 'WEATHER'), (4188821.99, 'HEALTH_AND_FITNESS'), (4056941.77, 'MAPS_AND_NAVIGATION'), (3695641.82, 'FAMILY'), (3638640.14, 'SPORTS'), (1986335.09, 'ART_AND_DESIGN'), (1924897.74, 'FOOD_AND_DRINK'), (1833495.15, 'EDUCATION'), (1712290.15, 'BUSINESS'), (1437816.27, 'LIFESTYLE'), (1387692.48, 'FINANCE'), (1331540.56, 'HOUSE_AND_HOME'), (854028.83, 'DATING'), (817657.27, 'COMICS'), (647317.82, 'AUTO_AND_VEHICLES'), (638503.73, 'LIBRARIES_AND_DEMO'), (542603.62, 'PARENTING'), (513151.89, 'BEAUTY'), (253542.22, 'EVENTS'), (120550.62, 'MEDICAL')]\n",
      "\n",
      "\n",
      "For the App Store dataset:\n",
      "\n",
      "The total number of users for the genres are:\n",
      " [(42705795, 'Games'), (7584125, 'Social Networking'), (4550647, 'Photo & Video'), (3783551, 'Music'), (3563577, 'Entertainment'), (2261254, 'Shopping'), (1587614, 'Sports'), (1514371, 'Health & Fitness'), (1513441, 'Utilities'), (1463837, 'Weather'), (1348958, 'Reference'), (1177591, 'Productivity'), (1132846, 'Finance'), (1129752, 'Travel'), (913665, 'News'), (866682, 'Food & Drink'), (840774, 'Lifestyle'), (826470, 'Education'), (556619, 'Book'), (516542, 'Navigation'), (127349, 'Business'), (16016, 'Catalogs'), (3672, 'Medical')] \n",
      "\n",
      "The average number of users per app for the genres are:\n",
      " [(86090.33, 'Navigation'), (74942.11, 'Reference'), (71548.35, 'Social Networking'), (57326.53, 'Music'), (52279.89, 'Weather'), (39758.5, 'Book'), (33333.92, 'Food & Drink'), (31467.94, 'Finance'), (28441.54, 'Photo & Video'), (28243.8, 'Travel'), (26919.69, 'Shopping'), (23298.02, 'Health & Fitness'), (23008.9, 'Sports'), (22812.92, 'Games'), (21248.02, 'News'), (21028.41, 'Productivity'), (18684.46, 'Utilities'), (16485.76, 'Lifestyle'), (14029.83, 'Entertainment'), (7491.12, 'Business'), (7003.98, 'Education'), (4004.0, 'Catalogs'), (612.0, 'Medical')]\n"
     ]
    }
   ],
   "source": [
    "def users_by_genre(dataset,genre_index,users_index):\n",
    "    all_genres_list=[]\n",
    "    total_users_by_genre=[]\n",
    "    avg_users_per_app_by_genre=[]\n",
    "    for app in dataset:\n",
    "        genre=app[genre_index]\n",
    "        if genre not in all_genres_list:\n",
    "            all_genres_list.append(genre)\n",
    "    \n",
    "    for genre in all_genres_list:\n",
    "        genre_total_users=0\n",
    "        genre_total_apps=0\n",
    "        for app in dataset:\n",
    "            app_genre=app[genre_index]\n",
    "            app_users_str=app[users_index]\n",
    "            app_users=''\n",
    "            for element in app_users_str:\n",
    "                if (element!=',') and (element!='+'):\n",
    "                    app_users+=element\n",
    "            app_users=int(app_users)\n",
    "            if app_genre==genre:\n",
    "                genre_total_users+=app_users\n",
    "                genre_total_apps+=1\n",
    "        tuple_total_users=(genre_total_users,genre)\n",
    "        total_users_by_genre.append(tuple_total_users)\n",
    "        \n",
    "        tuple_avg_users_per_app_genre=((round(genre_total_users/genre_total_apps,2)),genre)\n",
    "        avg_users_per_app_by_genre.append(tuple_avg_users_per_app_genre)\n",
    "\n",
    "    total_users_by_genre=sorted(total_users_by_genre,reverse=True)\n",
    "    avg_users_per_app_by_genre=sorted(avg_users_per_app_by_genre,reverse=True)\n",
    "    \n",
    "    print(\"The total number of users for the genres are:\\n\",total_users_by_genre,'\\n')\n",
    "    print(\"The average number of users per app for the genres are:\\n\",avg_users_per_app_by_genre)\n",
    "\n",
    "print(\"For the Google Play Store dataset:\\n\")\n",
    "users_by_genre(dataset=gp_freeapps,genre_index=1,users_index=5)\n",
    "print('\\n')\n",
    "print(\"For the App Store dataset:\\n\")\n",
    "users_by_genre(dataset=ios_freeapps,genre_index=11,users_index=5)"
   ]
  },
  {
   "cell_type": "markdown",
   "metadata": {},
   "source": [
    "### Interpreting the results\n",
    "The analysis above shows the skewed nature of observing pure numbers in certain circumstances. For example, although the 'Games' genre dominates the App Store market with the highest number of apps and consequentially the highest number of users, the average number of users per app is only 14th highest in a list of 23 genres. On the contrary, 'Navigations' apps in the App Store dataset have the 4th least number of users. However, the same genre has the highest number of users per app.\n",
    "\n",
    "Since the objective of this project is to identify a popular and common type/pattern across <b>both</b> markets, the genre that is particularly popular in both the Google Play Store market and the App Store market is the 'Social' or 'Social Networking' genre. Across both markets, it has a consistent performance of the 3rd highest number of average users per app. Furthermore, in the Google Play Store dataset, this genre has the 6th highest number of user and in the App Store Dataset, it has the 2nd highest number of users. All these factors consolidate the findings of the project that 'Social Networking' apps are a formidable and reliable bet for companies looking to develop apps based on the 'In-App purchase' revenue model. Further analysis of the user ratings of apps and other parameters such as the size of apps can be implemented to gain more insights (or identify any deeper-lying patterns) on the type of apps that are popular across both platforms."
   ]
  }
 ],
 "metadata": {
  "kernelspec": {
   "display_name": "Python 3",
   "language": "python",
   "name": "python3"
  },
  "language_info": {
   "codemirror_mode": {
    "name": "ipython",
    "version": 3
   },
   "file_extension": ".py",
   "mimetype": "text/x-python",
   "name": "python",
   "nbconvert_exporter": "python",
   "pygments_lexer": "ipython3",
   "version": "3.7.6"
  }
 },
 "nbformat": 4,
 "nbformat_minor": 4
}
